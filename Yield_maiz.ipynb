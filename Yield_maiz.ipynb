{
 "cells": [
  {
   "cell_type": "code",
   "execution_count": 50,
   "id": "21a9b9be",
   "metadata": {},
   "outputs": [],
   "source": [
    "import numpy as np\n",
    "import pandas as pd\n",
    "import geopandas as gpd\n",
    "import shapely\n",
    "import matplotlib.pyplot as plt\n",
    "import seaborn as sns\n",
    "\n",
    "#from geopandas import GeoDataFrame\n",
    "from shapely.geometry import Point,Polygon, LineString,shape\n",
    "\n",
    "from shapely.strtree import STRtree\n",
    "from shapely.ops import cascaded_union,unary_union\n",
    "\n",
    "import os\n",
    "from tqdm import tqdm # Para barra de progreso mas Cool\n"
   ]
  },
  {
   "cell_type": "code",
   "execution_count": 61,
   "id": "ce431b04",
   "metadata": {},
   "outputs": [],
   "source": [
    "# User Functions\n",
    "#==============================================================\n",
    "def Get_Files(path):\n",
    "    xfile = []\n",
    "    try:\n",
    "        for files in tqdm(os.listdir(path)):\n",
    "            file = files.split('.')\n",
    "            if file[1]=='shp':\n",
    "                xfile.append(files)\n",
    "    except:\n",
    "        print('error en el archivo {}'.format(path))\n",
    "    return xfile\n",
    "\n",
    "# Cargar Datos extras de excel\n",
    "#===============================================================\n",
    "def get_extras(path, file):\n",
    "    return pd.read_excel(path+file)\n",
    "\n",
    "# Cargar Datos de los Yields\n",
    "#===============================================================\n",
    "def get_yield(path,file,var):\n",
    "    yields = gpd.read_file(path+file)\n",
    "    return yields[var].copy(),yields\n",
    "    \n",
    "# Agregar las variables ecxtras\n",
    "#===============================================================\n",
    "def get_vars(yields,extras,yield_):\n",
    "    lote = yields.loc[1,'Lote'] # Filtra Lote\n",
    "    date = yield_.loc[1,'Tiempo'] # Obtiene la fecha del archivo original\n",
    "    date = date.split('-')[0]\n",
    "    tipo = extras[extras['Lotes']==lote].copy()\n",
    "    tipo['cam']= tipo['campaña'].apply(lambda x: x.split('-')[0]) # Agrego solo año inicial campaña\n",
    "    tp = tipo[tipo['cam']==date].copy()\n",
    "    \n",
    "    # Agrego Variables Extras\n",
    "    #==============================================================\n",
    "    yields['Cultivo']=list(tp['cultivo'].values)[0]\n",
    "    yields['Genotipo']=list(tp['genotipo'].values)[0]\n",
    "    yields['campana']=list(tp['campaña'].values)[0]\n",
    "    yields['fecha_s']=list(tp['fecha de siembra'].values)[0]\n",
    "    \n",
    "    return yields\n",
    "    \n",
    "\n",
    "    \n",
    "    "
   ]
  },
  {
   "cell_type": "markdown",
   "id": "b4cc9a7b",
   "metadata": {},
   "source": [
    "# Carga de Datos\n",
    "\n",
    "Cargaremos los datos de la cosecha de Maíz de la campaña 2015."
   ]
  },
  {
   "cell_type": "code",
   "execution_count": 9,
   "id": "8792238c",
   "metadata": {},
   "outputs": [
    {
     "data": {
      "text/html": [
       "<div>\n",
       "<style scoped>\n",
       "    .dataframe tbody tr th:only-of-type {\n",
       "        vertical-align: middle;\n",
       "    }\n",
       "\n",
       "    .dataframe tbody tr th {\n",
       "        vertical-align: top;\n",
       "    }\n",
       "\n",
       "    .dataframe thead th {\n",
       "        text-align: right;\n",
       "    }\n",
       "</style>\n",
       "<table border=\"1\" class=\"dataframe\">\n",
       "  <thead>\n",
       "    <tr style=\"text-align: right;\">\n",
       "      <th></th>\n",
       "      <th>Lote</th>\n",
       "      <th>Conjunto_d</th>\n",
       "      <th>Producto</th>\n",
       "      <th>Id_obj_</th>\n",
       "      <th>Tiempo</th>\n",
       "      <th>Duración_s</th>\n",
       "      <th>Cuenta_de_</th>\n",
       "      <th>Elevación_</th>\n",
       "      <th>Anch__de_f</th>\n",
       "      <th>Desviación</th>\n",
       "      <th>...</th>\n",
       "      <th>Humedad___</th>\n",
       "      <th>Num__de_pa</th>\n",
       "      <th>Flj_cultiv</th>\n",
       "      <th>Masa_de_re</th>\n",
       "      <th>_seco_Masa</th>\n",
       "      <th>_húmedo_Vo</th>\n",
       "      <th>Vol__de_re</th>\n",
       "      <th>Prod__ha_h</th>\n",
       "      <th>Fecha</th>\n",
       "      <th>geometry</th>\n",
       "    </tr>\n",
       "  </thead>\n",
       "  <tbody>\n",
       "    <tr>\n",
       "      <th>182441</th>\n",
       "      <td>BL1</td>\n",
       "      <td>C1:3/22/2015 (Climate FieldView)</td>\n",
       "      <td>Corn</td>\n",
       "      <td>16753.0</td>\n",
       "      <td>2015-03-22</td>\n",
       "      <td>1.0</td>\n",
       "      <td>Activado</td>\n",
       "      <td>93.7</td>\n",
       "      <td>7.28</td>\n",
       "      <td>0.0</td>\n",
       "      <td>...</td>\n",
       "      <td>10.6</td>\n",
       "      <td>30.0</td>\n",
       "      <td>0.0169</td>\n",
       "      <td>13.0646</td>\n",
       "      <td>13.0646</td>\n",
       "      <td>18124.5641</td>\n",
       "      <td>18124.5641</td>\n",
       "      <td>3.3647</td>\n",
       "      <td>2015-03-22</td>\n",
       "      <td>POINT (-61.57435 -34.38560)</td>\n",
       "    </tr>\n",
       "    <tr>\n",
       "      <th>182442</th>\n",
       "      <td>BL1</td>\n",
       "      <td>C1:3/22/2015 (Climate FieldView)</td>\n",
       "      <td>Corn</td>\n",
       "      <td>16754.0</td>\n",
       "      <td>2015-03-22</td>\n",
       "      <td>1.0</td>\n",
       "      <td>Activado</td>\n",
       "      <td>93.6</td>\n",
       "      <td>7.28</td>\n",
       "      <td>0.0</td>\n",
       "      <td>...</td>\n",
       "      <td>10.6</td>\n",
       "      <td>30.0</td>\n",
       "      <td>0.0177</td>\n",
       "      <td>13.2392</td>\n",
       "      <td>13.2392</td>\n",
       "      <td>18366.7238</td>\n",
       "      <td>18366.7238</td>\n",
       "      <td>3.4757</td>\n",
       "      <td>2015-03-22</td>\n",
       "      <td>POINT (-61.57434 -34.38561)</td>\n",
       "    </tr>\n",
       "    <tr>\n",
       "      <th>182443</th>\n",
       "      <td>BL1</td>\n",
       "      <td>C1:3/22/2015 (Climate FieldView)</td>\n",
       "      <td>Corn</td>\n",
       "      <td>16755.0</td>\n",
       "      <td>2015-03-22</td>\n",
       "      <td>1.0</td>\n",
       "      <td>Activado</td>\n",
       "      <td>93.5</td>\n",
       "      <td>7.28</td>\n",
       "      <td>0.0</td>\n",
       "      <td>...</td>\n",
       "      <td>10.6</td>\n",
       "      <td>30.0</td>\n",
       "      <td>0.0203</td>\n",
       "      <td>15.0916</td>\n",
       "      <td>15.0916</td>\n",
       "      <td>20936.6330</td>\n",
       "      <td>20936.6330</td>\n",
       "      <td>3.4852</td>\n",
       "      <td>2015-03-22</td>\n",
       "      <td>POINT (-61.57433 -34.38562)</td>\n",
       "    </tr>\n",
       "    <tr>\n",
       "      <th>182444</th>\n",
       "      <td>BL1</td>\n",
       "      <td>C1:3/22/2015 (Climate FieldView)</td>\n",
       "      <td>Corn</td>\n",
       "      <td>16756.0</td>\n",
       "      <td>2015-03-22</td>\n",
       "      <td>1.0</td>\n",
       "      <td>Activado</td>\n",
       "      <td>93.5</td>\n",
       "      <td>7.28</td>\n",
       "      <td>0.0</td>\n",
       "      <td>...</td>\n",
       "      <td>10.6</td>\n",
       "      <td>30.0</td>\n",
       "      <td>0.0191</td>\n",
       "      <td>14.9139</td>\n",
       "      <td>14.9139</td>\n",
       "      <td>20690.0029</td>\n",
       "      <td>20690.0029</td>\n",
       "      <td>3.3307</td>\n",
       "      <td>2015-03-22</td>\n",
       "      <td>POINT (-61.57432 -34.38563)</td>\n",
       "    </tr>\n",
       "    <tr>\n",
       "      <th>182445</th>\n",
       "      <td>BL1</td>\n",
       "      <td>C1:3/22/2015 (Climate FieldView)</td>\n",
       "      <td>Corn</td>\n",
       "      <td>16757.0</td>\n",
       "      <td>2015-03-22</td>\n",
       "      <td>1.0</td>\n",
       "      <td>Activado</td>\n",
       "      <td>93.5</td>\n",
       "      <td>7.28</td>\n",
       "      <td>0.0</td>\n",
       "      <td>...</td>\n",
       "      <td>10.6</td>\n",
       "      <td>30.0</td>\n",
       "      <td>0.0131</td>\n",
       "      <td>9.7932</td>\n",
       "      <td>9.7932</td>\n",
       "      <td>13586.0552</td>\n",
       "      <td>13586.0552</td>\n",
       "      <td>3.4732</td>\n",
       "      <td>2015-03-22</td>\n",
       "      <td>POINT (-61.57432 -34.38564)</td>\n",
       "    </tr>\n",
       "  </tbody>\n",
       "</table>\n",
       "<p>5 rows × 24 columns</p>\n",
       "</div>"
      ],
      "text/plain": [
       "       Lote                        Conjunto_d Producto  Id_obj_      Tiempo  \\\n",
       "182441  BL1  C1:3/22/2015 (Climate FieldView)     Corn  16753.0  2015-03-22   \n",
       "182442  BL1  C1:3/22/2015 (Climate FieldView)     Corn  16754.0  2015-03-22   \n",
       "182443  BL1  C1:3/22/2015 (Climate FieldView)     Corn  16755.0  2015-03-22   \n",
       "182444  BL1  C1:3/22/2015 (Climate FieldView)     Corn  16756.0  2015-03-22   \n",
       "182445  BL1  C1:3/22/2015 (Climate FieldView)     Corn  16757.0  2015-03-22   \n",
       "\n",
       "        Duración_s Cuenta_de_  Elevación_  Anch__de_f  Desviación  ...  \\\n",
       "182441         1.0   Activado        93.7        7.28         0.0  ...   \n",
       "182442         1.0   Activado        93.6        7.28         0.0  ...   \n",
       "182443         1.0   Activado        93.5        7.28         0.0  ...   \n",
       "182444         1.0   Activado        93.5        7.28         0.0  ...   \n",
       "182445         1.0   Activado        93.5        7.28         0.0  ...   \n",
       "\n",
       "        Humedad___  Num__de_pa  Flj_cultiv  Masa_de_re  _seco_Masa  \\\n",
       "182441        10.6        30.0      0.0169     13.0646     13.0646   \n",
       "182442        10.6        30.0      0.0177     13.2392     13.2392   \n",
       "182443        10.6        30.0      0.0203     15.0916     15.0916   \n",
       "182444        10.6        30.0      0.0191     14.9139     14.9139   \n",
       "182445        10.6        30.0      0.0131      9.7932      9.7932   \n",
       "\n",
       "        _húmedo_Vo  Vol__de_re  Prod__ha_h       Fecha  \\\n",
       "182441  18124.5641  18124.5641      3.3647  2015-03-22   \n",
       "182442  18366.7238  18366.7238      3.4757  2015-03-22   \n",
       "182443  20936.6330  20936.6330      3.4852  2015-03-22   \n",
       "182444  20690.0029  20690.0029      3.3307  2015-03-22   \n",
       "182445  13586.0552  13586.0552      3.4732  2015-03-22   \n",
       "\n",
       "                           geometry  \n",
       "182441  POINT (-61.57435 -34.38560)  \n",
       "182442  POINT (-61.57434 -34.38561)  \n",
       "182443  POINT (-61.57433 -34.38562)  \n",
       "182444  POINT (-61.57432 -34.38563)  \n",
       "182445  POINT (-61.57432 -34.38564)  \n",
       "\n",
       "[5 rows x 24 columns]"
      ]
     },
     "execution_count": 9,
     "metadata": {},
     "output_type": "execute_result"
    }
   ],
   "source": [
    "path = '../Data/yield_BL1/'\n",
    "pathE = '../Data/Extras/'\n",
    "maiz_2015 = gpd.read_file(path+'yield_mz_2015.shp')\n",
    "maiz_2015.tail()"
   ]
  },
  {
   "cell_type": "markdown",
   "id": "9a4a54c9",
   "metadata": {},
   "source": [
    "Datos de Genotipo, tipo de cosecha"
   ]
  },
  {
   "cell_type": "code",
   "execution_count": 11,
   "id": "d01c6b94",
   "metadata": {},
   "outputs": [
    {
     "data": {
      "text/html": [
       "<div>\n",
       "<style scoped>\n",
       "    .dataframe tbody tr th:only-of-type {\n",
       "        vertical-align: middle;\n",
       "    }\n",
       "\n",
       "    .dataframe tbody tr th {\n",
       "        vertical-align: top;\n",
       "    }\n",
       "\n",
       "    .dataframe thead th {\n",
       "        text-align: right;\n",
       "    }\n",
       "</style>\n",
       "<table border=\"1\" class=\"dataframe\">\n",
       "  <thead>\n",
       "    <tr style=\"text-align: right;\">\n",
       "      <th></th>\n",
       "      <th>Lotes</th>\n",
       "      <th>campaña</th>\n",
       "      <th>cultivo</th>\n",
       "      <th>genotipo</th>\n",
       "      <th>fecha de siembra</th>\n",
       "    </tr>\n",
       "  </thead>\n",
       "  <tbody>\n",
       "    <tr>\n",
       "      <th>0</th>\n",
       "      <td>BT2</td>\n",
       "      <td>2015-2016</td>\n",
       "      <td>sj</td>\n",
       "      <td>NaN</td>\n",
       "      <td>NaN</td>\n",
       "    </tr>\n",
       "    <tr>\n",
       "      <th>1</th>\n",
       "      <td>BT3</td>\n",
       "      <td>2015-2016</td>\n",
       "      <td>sj</td>\n",
       "      <td>NaN</td>\n",
       "      <td>NaN</td>\n",
       "    </tr>\n",
       "    <tr>\n",
       "      <th>2</th>\n",
       "      <td>BT4</td>\n",
       "      <td>2015-2016</td>\n",
       "      <td>sj</td>\n",
       "      <td>NaN</td>\n",
       "      <td>NaN</td>\n",
       "    </tr>\n",
       "    <tr>\n",
       "      <th>3</th>\n",
       "      <td>BT5</td>\n",
       "      <td>2015-2016</td>\n",
       "      <td>sj</td>\n",
       "      <td>NaN</td>\n",
       "      <td>NaN</td>\n",
       "    </tr>\n",
       "    <tr>\n",
       "      <th>4</th>\n",
       "      <td>BT6</td>\n",
       "      <td>2015-2016</td>\n",
       "      <td>sj</td>\n",
       "      <td>NaN</td>\n",
       "      <td>NaN</td>\n",
       "    </tr>\n",
       "  </tbody>\n",
       "</table>\n",
       "</div>"
      ],
      "text/plain": [
       "  Lotes    campaña cultivo genotipo fecha de siembra\n",
       "0   BT2  2015-2016      sj      NaN              NaN\n",
       "1   BT3  2015-2016      sj      NaN              NaN\n",
       "2   BT4  2015-2016      sj      NaN              NaN\n",
       "3   BT5  2015-2016      sj      NaN              NaN\n",
       "4   BT6  2015-2016      sj      NaN              NaN"
      ]
     },
     "execution_count": 11,
     "metadata": {},
     "output_type": "execute_result"
    }
   ],
   "source": [
    "extras = pd.read_excel(pathE+'bd_campaña_cultivo_genotipo_fs.xlsx')\n",
    "extras.head()"
   ]
  },
  {
   "cell_type": "markdown",
   "id": "c2d62f3e",
   "metadata": {},
   "source": [
    "### Información de las variables"
   ]
  },
  {
   "cell_type": "code",
   "execution_count": 3,
   "id": "75e0539d",
   "metadata": {},
   "outputs": [
    {
     "name": "stdout",
     "output_type": "stream",
     "text": [
      "<class 'geopandas.geodataframe.GeoDataFrame'>\n",
      "RangeIndex: 182446 entries, 0 to 182445\n",
      "Data columns (total 24 columns):\n",
      " #   Column      Non-Null Count   Dtype   \n",
      "---  ------      --------------   -----   \n",
      " 0   Lote        182446 non-null  object  \n",
      " 1   Conjunto_d  182446 non-null  object  \n",
      " 2   Producto    182446 non-null  object  \n",
      " 3   Id_obj_     182446 non-null  float64 \n",
      " 4   Tiempo      182446 non-null  object  \n",
      " 5   Duración_s  182446 non-null  float64 \n",
      " 6   Cuenta_de_  182446 non-null  object  \n",
      " 7   Elevación_  182446 non-null  float64 \n",
      " 8   Anch__de_f  182446 non-null  float64 \n",
      " 9   Desviación  182446 non-null  float64 \n",
      " 10  Velocidad_  182446 non-null  float64 \n",
      " 11  Distancia_  182446 non-null  float64 \n",
      " 12  Curso_deg_  182446 non-null  float64 \n",
      " 13  Hrv_Mass_W  182446 non-null  float64 \n",
      " 14  Humedad___  182446 non-null  float64 \n",
      " 15  Num__de_pa  182446 non-null  float64 \n",
      " 16  Flj_cultiv  182446 non-null  float64 \n",
      " 17  Masa_de_re  182446 non-null  float64 \n",
      " 18  _seco_Masa  182446 non-null  float64 \n",
      " 19  _húmedo_Vo  182446 non-null  float64 \n",
      " 20  Vol__de_re  182446 non-null  float64 \n",
      " 21  Prod__ha_h  182446 non-null  float64 \n",
      " 22  Fecha       182446 non-null  object  \n",
      " 23  geometry    182446 non-null  geometry\n",
      "dtypes: float64(17), geometry(1), object(6)\n",
      "memory usage: 33.4+ MB\n"
     ]
    }
   ],
   "source": [
    "maiz_2015.info()"
   ]
  },
  {
   "cell_type": "code",
   "execution_count": 4,
   "id": "5ac328b0",
   "metadata": {},
   "outputs": [
    {
     "data": {
      "text/html": [
       "<div>\n",
       "<style scoped>\n",
       "    .dataframe tbody tr th:only-of-type {\n",
       "        vertical-align: middle;\n",
       "    }\n",
       "\n",
       "    .dataframe tbody tr th {\n",
       "        vertical-align: top;\n",
       "    }\n",
       "\n",
       "    .dataframe thead th {\n",
       "        text-align: right;\n",
       "    }\n",
       "</style>\n",
       "<table border=\"1\" class=\"dataframe\">\n",
       "  <thead>\n",
       "    <tr style=\"text-align: right;\">\n",
       "      <th></th>\n",
       "      <th>Lote</th>\n",
       "      <th>_seco_Masa</th>\n",
       "      <th>geometry</th>\n",
       "    </tr>\n",
       "  </thead>\n",
       "  <tbody>\n",
       "    <tr>\n",
       "      <th>182441</th>\n",
       "      <td>BL1</td>\n",
       "      <td>13.0646</td>\n",
       "      <td>POINT (-61.57435 -34.38560)</td>\n",
       "    </tr>\n",
       "    <tr>\n",
       "      <th>182442</th>\n",
       "      <td>BL1</td>\n",
       "      <td>13.2392</td>\n",
       "      <td>POINT (-61.57434 -34.38561)</td>\n",
       "    </tr>\n",
       "    <tr>\n",
       "      <th>182443</th>\n",
       "      <td>BL1</td>\n",
       "      <td>15.0916</td>\n",
       "      <td>POINT (-61.57433 -34.38562)</td>\n",
       "    </tr>\n",
       "    <tr>\n",
       "      <th>182444</th>\n",
       "      <td>BL1</td>\n",
       "      <td>14.9139</td>\n",
       "      <td>POINT (-61.57432 -34.38563)</td>\n",
       "    </tr>\n",
       "    <tr>\n",
       "      <th>182445</th>\n",
       "      <td>BL1</td>\n",
       "      <td>9.7932</td>\n",
       "      <td>POINT (-61.57432 -34.38564)</td>\n",
       "    </tr>\n",
       "  </tbody>\n",
       "</table>\n",
       "</div>"
      ],
      "text/plain": [
       "       Lote  _seco_Masa                     geometry\n",
       "182441  BL1     13.0646  POINT (-61.57435 -34.38560)\n",
       "182442  BL1     13.2392  POINT (-61.57434 -34.38561)\n",
       "182443  BL1     15.0916  POINT (-61.57433 -34.38562)\n",
       "182444  BL1     14.9139  POINT (-61.57432 -34.38563)\n",
       "182445  BL1      9.7932  POINT (-61.57432 -34.38564)"
      ]
     },
     "execution_count": 4,
     "metadata": {},
     "output_type": "execute_result"
    }
   ],
   "source": [
    "# Variables de interes del Yield\n",
    "#=====================================================\n",
    "var_y = ['Lote','_seco_Masa','geometry']\n",
    "maiz = maiz_2015[var_y].copy()\n",
    "maiz.tail()"
   ]
  },
  {
   "cell_type": "code",
   "execution_count": 5,
   "id": "2070a387",
   "metadata": {},
   "outputs": [
    {
     "data": {
      "text/plain": [
       "<AxesSubplot:>"
      ]
     },
     "execution_count": 5,
     "metadata": {},
     "output_type": "execute_result"
    },
    {
     "data": {
      "image/png": "[encoded data removed]",
      "text/plain": [
       "<Figure size 640x480 with 1 Axes>"
      ]
     },
     "metadata": {},
     "output_type": "display_data"
    }
   ],
   "source": [
    "maiz.plot()"
   ]
  },
  {
   "cell_type": "code",
   "execution_count": 7,
   "id": "0fd03977",
   "metadata": {},
   "outputs": [
    {
     "data": {
      "text/plain": [
       "{'whiskers': [<matplotlib.lines.Line2D at 0x215979ff0d0>,\n",
       "  <matplotlib.lines.Line2D at 0x215979ff3a0>],\n",
       " 'caps': [<matplotlib.lines.Line2D at 0x215979ff670>,\n",
       "  <matplotlib.lines.Line2D at 0x215979ff940>],\n",
       " 'boxes': [<matplotlib.lines.Line2D at 0x215979d7dc0>],\n",
       " 'medians': [<matplotlib.lines.Line2D at 0x215979ffc10>],\n",
       " 'fliers': [<matplotlib.lines.Line2D at 0x215979ffee0>],\n",
       " 'means': []}"
      ]
     },
     "execution_count": 7,
     "metadata": {},
     "output_type": "execute_result"
    },
    {
     "data": {
      "image/png": "[encoded data removed]",
      "text/plain": [
       "<Figure size 640x480 with 1 Axes>"
      ]
     },
     "metadata": {},
     "output_type": "display_data"
    }
   ],
   "source": [
    "plt.boxplot(maiz['_seco_Masa'])"
   ]
  },
  {
   "cell_type": "markdown",
   "id": "3020a911",
   "metadata": {},
   "source": [
    "# Agregamos tipo cultivo y Genotipo"
   ]
  },
  {
   "cell_type": "code",
   "execution_count": 18,
   "id": "a9839776",
   "metadata": {},
   "outputs": [
    {
     "data": {
      "text/plain": [
       "('BL1', '2015')"
      ]
     },
     "execution_count": 18,
     "metadata": {},
     "output_type": "execute_result"
    }
   ],
   "source": [
    "lote = maiz.loc[1,'Lote']\n",
    "date = maiz_2015.loc[1,'Tiempo']\n",
    "date = date.split('-')[0]\n",
    "lote,date"
   ]
  },
  {
   "cell_type": "code",
   "execution_count": 21,
   "id": "5aa44d3e",
   "metadata": {},
   "outputs": [],
   "source": [
    "tipo = extras[extras['Lotes']==lote].copy()\n",
    "tipo['cam']= tipo['campaña'].apply(lambda x: x.split('-')[0])"
   ]
  },
  {
   "cell_type": "code",
   "execution_count": 28,
   "id": "49e54211",
   "metadata": {},
   "outputs": [
    {
     "data": {
      "text/plain": [
       "(['sj'], [nan])"
      ]
     },
     "execution_count": 28,
     "metadata": {},
     "output_type": "execute_result"
    }
   ],
   "source": [
    "tp = tipo[tipo['cam']==date].copy()\n",
    "cultivo = list(tp['cultivo'].values)\n",
    "geno = list(tp['genotipo'].values)\n",
    "cultivo,geno"
   ]
  },
  {
   "cell_type": "code",
   "execution_count": 38,
   "id": "448ec101",
   "metadata": {},
   "outputs": [
    {
     "data": {
      "text/html": [
       "<div>\n",
       "<style scoped>\n",
       "    .dataframe tbody tr th:only-of-type {\n",
       "        vertical-align: middle;\n",
       "    }\n",
       "\n",
       "    .dataframe tbody tr th {\n",
       "        vertical-align: top;\n",
       "    }\n",
       "\n",
       "    .dataframe thead th {\n",
       "        text-align: right;\n",
       "    }\n",
       "</style>\n",
       "<table border=\"1\" class=\"dataframe\">\n",
       "  <thead>\n",
       "    <tr style=\"text-align: right;\">\n",
       "      <th></th>\n",
       "      <th>Lote</th>\n",
       "      <th>_seco_Masa</th>\n",
       "      <th>geometry</th>\n",
       "      <th>Cultivo</th>\n",
       "      <th>Genotipo</th>\n",
       "      <th>campana</th>\n",
       "      <th>fecha_s</th>\n",
       "    </tr>\n",
       "  </thead>\n",
       "  <tbody>\n",
       "    <tr>\n",
       "      <th>182441</th>\n",
       "      <td>BL1</td>\n",
       "      <td>13.0646</td>\n",
       "      <td>POINT (-61.57435 -34.38560)</td>\n",
       "      <td>sj</td>\n",
       "      <td>NaN</td>\n",
       "      <td>2015-2016</td>\n",
       "      <td>NaN</td>\n",
       "    </tr>\n",
       "    <tr>\n",
       "      <th>182442</th>\n",
       "      <td>BL1</td>\n",
       "      <td>13.2392</td>\n",
       "      <td>POINT (-61.57434 -34.38561)</td>\n",
       "      <td>sj</td>\n",
       "      <td>NaN</td>\n",
       "      <td>2015-2016</td>\n",
       "      <td>NaN</td>\n",
       "    </tr>\n",
       "    <tr>\n",
       "      <th>182443</th>\n",
       "      <td>BL1</td>\n",
       "      <td>15.0916</td>\n",
       "      <td>POINT (-61.57433 -34.38562)</td>\n",
       "      <td>sj</td>\n",
       "      <td>NaN</td>\n",
       "      <td>2015-2016</td>\n",
       "      <td>NaN</td>\n",
       "    </tr>\n",
       "    <tr>\n",
       "      <th>182444</th>\n",
       "      <td>BL1</td>\n",
       "      <td>14.9139</td>\n",
       "      <td>POINT (-61.57432 -34.38563)</td>\n",
       "      <td>sj</td>\n",
       "      <td>NaN</td>\n",
       "      <td>2015-2016</td>\n",
       "      <td>NaN</td>\n",
       "    </tr>\n",
       "    <tr>\n",
       "      <th>182445</th>\n",
       "      <td>BL1</td>\n",
       "      <td>9.7932</td>\n",
       "      <td>POINT (-61.57432 -34.38564)</td>\n",
       "      <td>sj</td>\n",
       "      <td>NaN</td>\n",
       "      <td>2015-2016</td>\n",
       "      <td>NaN</td>\n",
       "    </tr>\n",
       "  </tbody>\n",
       "</table>\n",
       "</div>"
      ],
      "text/plain": [
       "       Lote  _seco_Masa                     geometry Cultivo  Genotipo  \\\n",
       "182441  BL1     13.0646  POINT (-61.57435 -34.38560)      sj       NaN   \n",
       "182442  BL1     13.2392  POINT (-61.57434 -34.38561)      sj       NaN   \n",
       "182443  BL1     15.0916  POINT (-61.57433 -34.38562)      sj       NaN   \n",
       "182444  BL1     14.9139  POINT (-61.57432 -34.38563)      sj       NaN   \n",
       "182445  BL1      9.7932  POINT (-61.57432 -34.38564)      sj       NaN   \n",
       "\n",
       "          campana  fecha_s  \n",
       "182441  2015-2016      NaN  \n",
       "182442  2015-2016      NaN  \n",
       "182443  2015-2016      NaN  \n",
       "182444  2015-2016      NaN  \n",
       "182445  2015-2016      NaN  "
      ]
     },
     "execution_count": 38,
     "metadata": {},
     "output_type": "execute_result"
    }
   ],
   "source": [
    "maiz['Cultivo']=cultivo[0]\n",
    "maiz['Genotipo']=geno[0]\n",
    "maiz['campana']=list(tp['campaña'].values)[0]\n",
    "maiz['fecha_s']=list(tp['fecha de siembra'].values)[0]\n",
    "\n",
    "maiz.tail()"
   ]
  },
  {
   "cell_type": "code",
   "execution_count": 52,
   "id": "0a83da3d",
   "metadata": {},
   "outputs": [
    {
     "name": "stderr",
     "output_type": "stream",
     "text": [
      "100%|██████████████████████████████████████████████████████████████████████████████████████████| 24/24 [00:00<?, ?it/s]\n"
     ]
    },
    {
     "data": {
      "text/plain": [
       "['yield_mz2_2018.shp',\n",
       " 'yield_mz_2015.shp',\n",
       " 'yield_mz_2017.shp',\n",
       " 'yield_sy_2016.shp',\n",
       " 'yield_sy_2019.shp',\n",
       " 'yield_wh_2018.shp']"
      ]
     },
     "execution_count": 52,
     "metadata": {},
     "output_type": "execute_result"
    }
   ],
   "source": [
    "# Buscar Archivos del Yield\n",
    "#==================================================\n",
    "files = Get_Files(path)\n"
   ]
  },
  {
   "cell_type": "code",
   "execution_count": 70,
   "id": "f4a0e7e6",
   "metadata": {},
   "outputs": [
    {
     "name": "stderr",
     "output_type": "stream",
     "text": [
      "100%|████████████████████████████████████████████████████████████████████████████████████| 6/6 [01:17<00:00, 12.85s/it]\n"
     ]
    }
   ],
   "source": [
    "# Generar el dataframe con los yields\n",
    "#==========================================================\n",
    "\n",
    "# Load variables extras\n",
    "#=============================================================\n",
    "extras = get_extras(pathE, 'bd_campaña_cultivo_genotipo_fs.xlsx')\n",
    "\n",
    "# Las variables de inters del Yiled\n",
    "#===================================================================\n",
    "var = ['Lote','_seco_Masa','geometry']\n",
    "\n",
    "all_fields =  pd.DataFrame()\n",
    "\n",
    "for file in tqdm(files):\n",
    "    \n",
    "    yields,yields_ = get_yield(path,file,var)\n",
    "    temp = get_vars(yields,extras,yields_)\n",
    "    \n",
    "    all_fields = pd.concat([all_fields,temp],axis=0)\n",
    "    \n",
    "    \n",
    "all_fields.reset_index(drop = True, inplace=True)\n",
    "    "
   ]
  },
  {
   "cell_type": "code",
   "execution_count": 74,
   "id": "e6d97806",
   "metadata": {},
   "outputs": [
    {
     "data": {
      "text/html": [
       "<div>\n",
       "<style scoped>\n",
       "    .dataframe tbody tr th:only-of-type {\n",
       "        vertical-align: middle;\n",
       "    }\n",
       "\n",
       "    .dataframe tbody tr th {\n",
       "        vertical-align: top;\n",
       "    }\n",
       "\n",
       "    .dataframe thead th {\n",
       "        text-align: right;\n",
       "    }\n",
       "</style>\n",
       "<table border=\"1\" class=\"dataframe\">\n",
       "  <thead>\n",
       "    <tr style=\"text-align: right;\">\n",
       "      <th></th>\n",
       "      <th>Lote</th>\n",
       "      <th>_seco_Masa</th>\n",
       "      <th>geometry</th>\n",
       "      <th>Cultivo</th>\n",
       "      <th>Genotipo</th>\n",
       "      <th>campana</th>\n",
       "      <th>fecha_s</th>\n",
       "    </tr>\n",
       "  </thead>\n",
       "  <tbody>\n",
       "    <tr>\n",
       "      <th>0</th>\n",
       "      <td>BL1</td>\n",
       "      <td>1.1129</td>\n",
       "      <td>POINT (-61.58942 -34.38390)</td>\n",
       "      <td>tr</td>\n",
       "      <td>Ceibo</td>\n",
       "      <td>2018-2019</td>\n",
       "      <td>2022-07-02</td>\n",
       "    </tr>\n",
       "    <tr>\n",
       "      <th>1</th>\n",
       "      <td>BL1</td>\n",
       "      <td>1.8112</td>\n",
       "      <td>POINT (-61.58941 -34.38390)</td>\n",
       "      <td>tr</td>\n",
       "      <td>Ceibo</td>\n",
       "      <td>2018-2019</td>\n",
       "      <td>2022-07-02</td>\n",
       "    </tr>\n",
       "    <tr>\n",
       "      <th>2</th>\n",
       "      <td>BL1</td>\n",
       "      <td>2.0609</td>\n",
       "      <td>POINT (-61.58941 -34.38391)</td>\n",
       "      <td>tr</td>\n",
       "      <td>Ceibo</td>\n",
       "      <td>2018-2019</td>\n",
       "      <td>2022-07-02</td>\n",
       "    </tr>\n",
       "    <tr>\n",
       "      <th>3</th>\n",
       "      <td>BL1</td>\n",
       "      <td>1.5176</td>\n",
       "      <td>POINT (-61.58940 -34.38392)</td>\n",
       "      <td>tr</td>\n",
       "      <td>Ceibo</td>\n",
       "      <td>2018-2019</td>\n",
       "      <td>2022-07-02</td>\n",
       "    </tr>\n",
       "    <tr>\n",
       "      <th>4</th>\n",
       "      <td>BL1</td>\n",
       "      <td>1.1957</td>\n",
       "      <td>POINT (-61.58939 -34.38393)</td>\n",
       "      <td>tr</td>\n",
       "      <td>Ceibo</td>\n",
       "      <td>2018-2019</td>\n",
       "      <td>2022-07-02</td>\n",
       "    </tr>\n",
       "  </tbody>\n",
       "</table>\n",
       "</div>"
      ],
      "text/plain": [
       "  Lote  _seco_Masa                     geometry Cultivo Genotipo    campana  \\\n",
       "0  BL1      1.1129  POINT (-61.58942 -34.38390)      tr    Ceibo  2018-2019   \n",
       "1  BL1      1.8112  POINT (-61.58941 -34.38390)      tr    Ceibo  2018-2019   \n",
       "2  BL1      2.0609  POINT (-61.58941 -34.38391)      tr    Ceibo  2018-2019   \n",
       "3  BL1      1.5176  POINT (-61.58940 -34.38392)      tr    Ceibo  2018-2019   \n",
       "4  BL1      1.1957  POINT (-61.58939 -34.38393)      tr    Ceibo  2018-2019   \n",
       "\n",
       "     fecha_s  \n",
       "0 2022-07-02  \n",
       "1 2022-07-02  \n",
       "2 2022-07-02  \n",
       "3 2022-07-02  \n",
       "4 2022-07-02  "
      ]
     },
     "execution_count": 74,
     "metadata": {},
     "output_type": "execute_result"
    }
   ],
   "source": [
    "all_fields.head()"
   ]
  },
  {
   "cell_type": "code",
   "execution_count": 72,
   "id": "ebe456b3",
   "metadata": {},
   "outputs": [
    {
     "data": {
      "text/plain": [
       "<AxesSubplot:>"
      ]
     },
     "execution_count": 72,
     "metadata": {},
     "output_type": "execute_result"
    },
    {
     "data": {
      "image/png": "[encoded data removed]",
      "text/plain": [
       "<Figure size 640x480 with 1 Axes>"
      ]
     },
     "metadata": {},
     "output_type": "display_data"
    }
   ],
   "source": [
    "all_fields.plot()"
   ]
  },
  {
   "cell_type": "code",
   "execution_count": 73,
   "id": "929206d8",
   "metadata": {},
   "outputs": [
    {
     "data": {
      "text/plain": [
       "array(['BL1'], dtype=object)"
      ]
     },
     "execution_count": 73,
     "metadata": {},
     "output_type": "execute_result"
    }
   ],
   "source": [
    "all_fields['Lote'].unique()"
   ]
  }
 ],
 "metadata": {
  "kernelspec": {
   "display_name": "Python 3 (ipykernel)",
   "language": "python",
   "name": "python3"
  },
  "language_info": {
   "codemirror_mode": {
    "name": "ipython",
    "version": 3
   },
   "file_extension": ".py",
   "mimetype": "text/x-python",
   "name": "python",
   "nbconvert_exporter": "python",
   "pygments_lexer": "ipython3",
   "version": "3.9.13"
  }
 },
 "nbformat": 4,
 "nbformat_minor": 5
}
