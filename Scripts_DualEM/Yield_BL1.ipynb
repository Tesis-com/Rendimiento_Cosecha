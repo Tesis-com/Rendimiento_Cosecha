{
 "cells": [
  {
   "cell_type": "code",
   "execution_count": 1,
   "id": "21a9b9be",
   "metadata": {},
   "outputs": [],
   "source": [
    "import numpy as np\n",
    "import pandas as pd\n",
    "import geopandas as gpd\n",
    "import shapely\n",
    "import matplotlib.pyplot as plt\n",
    "import seaborn as sns\n",
    "\n",
    "#from geopandas import GeoDataFrame\n",
    "from shapely.geometry import Point,Polygon, LineString,shape\n",
    "\n",
    "from shapely.strtree import STRtree\n",
    "from shapely.ops import cascaded_union,unary_union\n",
    "\n",
    "import os\n",
    "from tqdm import tqdm # Para barra de progreso mas Cool\n"
   ]
  },
  {
   "cell_type": "code",
   "execution_count": 2,
   "id": "ce431b04",
   "metadata": {},
   "outputs": [],
   "source": [
    "# User Functions\n",
    "#==============================================================\n",
    "def Get_Files(path):\n",
    "    xfile = []\n",
    "    try:\n",
    "        for files in tqdm(os.listdir(path)):\n",
    "            file = files.split('.')\n",
    "            if file[1]=='shp':\n",
    "                xfile.append(files)\n",
    "    except:\n",
    "        print('error en el archivo {}'.format(path))\n",
    "    return xfile\n",
    "\n",
    "# Cargar Datos extras de excel\n",
    "#===============================================================\n",
    "def get_extras(path, file):\n",
    "    return pd.read_excel(path+file)\n",
    "\n",
    "# Cargar Datos de los Yields\n",
    "#===============================================================\n",
    "def get_yield(path,file,var):\n",
    "    yields = gpd.read_file(path+file)\n",
    "    return yields[var].copy(),yields\n",
    "    \n",
    "# Agregar las variables ecxtras\n",
    "#===============================================================\n",
    "def get_vars(yields,extras,yield_):\n",
    "    lote = yields.loc[1,'Lote'] # Filtra Lote\n",
    "    date = yield_.loc[1,'Tiempo'] # Obtiene la fecha del archivo original\n",
    "    date = date.split('-')[0]\n",
    "    tipo = extras[extras['Lotes']==lote].copy()\n",
    "    tipo['cam']= tipo['campaña'].apply(lambda x: x.split('-')[0]) # Agrego solo año inicial campaña\n",
    "    tp = tipo[tipo['cam']==date].copy()\n",
    "    \n",
    "    # Agrego Variables Extras\n",
    "    #==============================================================\n",
    "    yields['Cultivo']=list(tp['cultivo'].values)[0]\n",
    "    yields['Genotipo']=list(tp['genotipo'].values)[0]\n",
    "    yields['campana']=list(tp['campaña'].values)[0]\n",
    "    yields['fecha_s']=list(tp['fecha de siembra'].values)[0]\n",
    "    \n",
    "    return yields   "
   ]
  },
  {
   "cell_type": "markdown",
   "id": "b4cc9a7b",
   "metadata": {},
   "source": [
    "# Carga de los archivos\n",
    "\n",
    "Cargaremos los datos de la cosecha según los archivos disponibles."
   ]
  },
  {
   "cell_type": "code",
   "execution_count": 3,
   "id": "8792238c",
   "metadata": {},
   "outputs": [],
   "source": [
    "# Inidicamos el Path del directorio con archivos Yield y los datos de variables extras\n",
    "#==============================================================================================\n",
    "path = '../Data/yield_BL1/'\n",
    "pathE = '../Data/Extras/'\n"
   ]
  },
  {
   "cell_type": "markdown",
   "id": "9a4a54c9",
   "metadata": {},
   "source": [
    "Obtener nombre los archivos disponibles en le path indicado."
   ]
  },
  {
   "cell_type": "code",
   "execution_count": 5,
   "id": "0a83da3d",
   "metadata": {},
   "outputs": [
    {
     "name": "stderr",
     "output_type": "stream",
     "text": [
      "100%|██████████████████████████████████████████████████████████████████████████████████████████| 24/24 [00:00<?, ?it/s]\n"
     ]
    },
    {
     "data": {
      "text/plain": [
       "['yield_mz2_2018.shp',\n",
       " 'yield_mz_2015.shp',\n",
       " 'yield_mz_2017.shp',\n",
       " 'yield_sy_2016.shp',\n",
       " 'yield_sy_2019.shp',\n",
       " 'yield_wh_2018.shp']"
      ]
     },
     "execution_count": 5,
     "metadata": {},
     "output_type": "execute_result"
    }
   ],
   "source": [
    "# Buscar Archivos del Yield\n",
    "#==================================================\n",
    "files = Get_Files(path)\n",
    "files"
   ]
  },
  {
   "cell_type": "markdown",
   "id": "67042e89",
   "metadata": {},
   "source": [
    "# Generar el dataframe\n",
    "\n",
    "Cargamos las variables extras disponibles en un archivo excel."
   ]
  },
  {
   "cell_type": "code",
   "execution_count": 6,
   "id": "f4a0e7e6",
   "metadata": {},
   "outputs": [],
   "source": [
    "# Load variables extras\n",
    "#=============================================================\n",
    "extras = get_extras(pathE, 'bd_campaña_cultivo_genotipo_fs.xlsx')   "
   ]
  },
  {
   "cell_type": "markdown",
   "id": "54ef027d",
   "metadata": {},
   "source": [
    "Ahora cargamos los datos de los yields y los combinamos con las varaibles extras."
   ]
  },
  {
   "cell_type": "code",
   "execution_count": 7,
   "id": "5584046c",
   "metadata": {},
   "outputs": [
    {
     "name": "stderr",
     "output_type": "stream",
     "text": [
      "100%|████████████████████████████████████████████████████████████████████████████████████| 6/6 [01:19<00:00, 13.26s/it]\n"
     ]
    }
   ],
   "source": [
    "# Las variables de inters del Yiled\n",
    "#===================================================================\n",
    "var = ['Lote','_seco_Masa','geometry']\n",
    "\n",
    "all_fields =  pd.DataFrame()\n",
    "\n",
    "for file in tqdm(files):\n",
    "    \n",
    "    yields,yields_ = get_yield(path,file,var)\n",
    "    temp = get_vars(yields,extras,yields_)\n",
    "    \n",
    "    all_fields = pd.concat([all_fields,temp],axis=0)\n",
    "    \n",
    "    \n",
    "all_fields.reset_index(drop = True, inplace=True)"
   ]
  },
  {
   "cell_type": "code",
   "execution_count": 9,
   "id": "e6d97806",
   "metadata": {},
   "outputs": [
    {
     "data": {
      "text/html": [
       "<div>\n",
       "<style scoped>\n",
       "    .dataframe tbody tr th:only-of-type {\n",
       "        vertical-align: middle;\n",
       "    }\n",
       "\n",
       "    .dataframe tbody tr th {\n",
       "        vertical-align: top;\n",
       "    }\n",
       "\n",
       "    .dataframe thead th {\n",
       "        text-align: right;\n",
       "    }\n",
       "</style>\n",
       "<table border=\"1\" class=\"dataframe\">\n",
       "  <thead>\n",
       "    <tr style=\"text-align: right;\">\n",
       "      <th></th>\n",
       "      <th>Lote</th>\n",
       "      <th>_seco_Masa</th>\n",
       "      <th>geometry</th>\n",
       "      <th>Cultivo</th>\n",
       "      <th>Genotipo</th>\n",
       "      <th>campana</th>\n",
       "      <th>fecha_s</th>\n",
       "    </tr>\n",
       "  </thead>\n",
       "  <tbody>\n",
       "    <tr>\n",
       "      <th>0</th>\n",
       "      <td>BL1</td>\n",
       "      <td>1.1129</td>\n",
       "      <td>POINT (-61.58942 -34.38390)</td>\n",
       "      <td>tr</td>\n",
       "      <td>Ceibo</td>\n",
       "      <td>2018-2019</td>\n",
       "      <td>2022-07-02</td>\n",
       "    </tr>\n",
       "    <tr>\n",
       "      <th>1</th>\n",
       "      <td>BL1</td>\n",
       "      <td>1.8112</td>\n",
       "      <td>POINT (-61.58941 -34.38390)</td>\n",
       "      <td>tr</td>\n",
       "      <td>Ceibo</td>\n",
       "      <td>2018-2019</td>\n",
       "      <td>2022-07-02</td>\n",
       "    </tr>\n",
       "    <tr>\n",
       "      <th>2</th>\n",
       "      <td>BL1</td>\n",
       "      <td>2.0609</td>\n",
       "      <td>POINT (-61.58941 -34.38391)</td>\n",
       "      <td>tr</td>\n",
       "      <td>Ceibo</td>\n",
       "      <td>2018-2019</td>\n",
       "      <td>2022-07-02</td>\n",
       "    </tr>\n",
       "    <tr>\n",
       "      <th>3</th>\n",
       "      <td>BL1</td>\n",
       "      <td>1.5176</td>\n",
       "      <td>POINT (-61.58940 -34.38392)</td>\n",
       "      <td>tr</td>\n",
       "      <td>Ceibo</td>\n",
       "      <td>2018-2019</td>\n",
       "      <td>2022-07-02</td>\n",
       "    </tr>\n",
       "    <tr>\n",
       "      <th>4</th>\n",
       "      <td>BL1</td>\n",
       "      <td>1.1957</td>\n",
       "      <td>POINT (-61.58939 -34.38393)</td>\n",
       "      <td>tr</td>\n",
       "      <td>Ceibo</td>\n",
       "      <td>2018-2019</td>\n",
       "      <td>2022-07-02</td>\n",
       "    </tr>\n",
       "  </tbody>\n",
       "</table>\n",
       "</div>"
      ],
      "text/plain": [
       "  Lote  _seco_Masa                     geometry Cultivo Genotipo    campana  \\\n",
       "0  BL1      1.1129  POINT (-61.58942 -34.38390)      tr    Ceibo  2018-2019   \n",
       "1  BL1      1.8112  POINT (-61.58941 -34.38390)      tr    Ceibo  2018-2019   \n",
       "2  BL1      2.0609  POINT (-61.58941 -34.38391)      tr    Ceibo  2018-2019   \n",
       "3  BL1      1.5176  POINT (-61.58940 -34.38392)      tr    Ceibo  2018-2019   \n",
       "4  BL1      1.1957  POINT (-61.58939 -34.38393)      tr    Ceibo  2018-2019   \n",
       "\n",
       "     fecha_s  \n",
       "0 2022-07-02  \n",
       "1 2022-07-02  \n",
       "2 2022-07-02  \n",
       "3 2022-07-02  \n",
       "4 2022-07-02  "
      ]
     },
     "execution_count": 9,
     "metadata": {},
     "output_type": "execute_result"
    }
   ],
   "source": [
    "all_fields.head()"
   ]
  },
  {
   "cell_type": "markdown",
   "id": "b46d8827",
   "metadata": {},
   "source": [
    "# Escribir Dataframe en archivo csv"
   ]
  },
  {
   "cell_type": "code",
   "execution_count": 10,
   "id": "4e1fe36d",
   "metadata": {},
   "outputs": [],
   "source": [
    "all_fields.to_csv('Yields.csv',index=False)"
   ]
  },
  {
   "cell_type": "code",
   "execution_count": null,
   "id": "81a1d274",
   "metadata": {},
   "outputs": [],
   "source": []
  }
 ],
 "metadata": {
  "kernelspec": {
   "display_name": "Python 3 (ipykernel)",
   "language": "python",
   "name": "python3"
  },
  "language_info": {
   "codemirror_mode": {
    "name": "ipython",
    "version": 3
   },
   "file_extension": ".py",
   "mimetype": "text/x-python",
   "name": "python",
   "nbconvert_exporter": "python",
   "pygments_lexer": "ipython3",
   "version": "3.9.13"
  }
 },
 "nbformat": 4,
 "nbformat_minor": 5
}
