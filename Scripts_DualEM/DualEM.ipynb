{
 "cells": [
  {
   "cell_type": "code",
   "execution_count": 1,
   "id": "21a9b9be",
   "metadata": {},
   "outputs": [],
   "source": [
    "import numpy as np\n",
    "import pandas as pd\n",
    "import geopandas as gpd\n",
    "import shapely\n",
    "import matplotlib.pyplot as plt\n",
    "import seaborn as sns\n",
    "\n",
    "#from geopandas import GeoDataFrame\n",
    "from shapely.geometry import Point,Polygon, LineString,shape\n",
    "\n",
    "from shapely.strtree import STRtree\n",
    "from shapely.ops import cascaded_union,unary_union\n",
    "\n",
    "import os\n",
    "from tqdm import tqdm # Para barra de progreso mas Cool\n"
   ]
  },
  {
   "cell_type": "code",
   "execution_count": 48,
   "id": "ce431b04",
   "metadata": {},
   "outputs": [],
   "source": [
    "# User Functions\n",
    "#==============================================================\n",
    "\n",
    "# Get Files\n",
    "#==============================================================\n",
    "def Get_Files(path):\n",
    "    xfile = []\n",
    "    try:\n",
    "        for p in tqdm(path):\n",
    "            for files in os.listdir(p):\n",
    "                file = files.split('.')\n",
    "                if file[1]=='shp':\n",
    "                    xfile.append(files)\n",
    "                    break\n",
    "    except:\n",
    "        print('error en el archivo {}'.format(path))\n",
    "    return xfile\n",
    "\n",
    "# Get Folder\n",
    "#===============================================================\n",
    "def Get_Folder(path):\n",
    "    xfolder = []\n",
    "    try:\n",
    "        for i,fold in enumerate(os.walk(path)):\n",
    "            if i>0:\n",
    "                xfolder.append(fold[0]) #[nfold-1])\n",
    "    except:\n",
    "        print('error en el archivo {}-{}'.format(path,i))\n",
    "    return Get_Files(xfolder),xfolder\n",
    "\n",
    "\n",
    "# Cargar Datos de los Yields\n",
    "#===============================================================\n",
    "def get_dualem(path,file,var):\n",
    "    dualem = gpd.read_file(path+file)\n",
    "    return dualem[var].copy() \n",
    "    "
   ]
  },
  {
   "cell_type": "markdown",
   "id": "b4cc9a7b",
   "metadata": {},
   "source": [
    "# Carga de Datos\n",
    "\n",
    "Cargaremos los datos del Dualem."
   ]
  },
  {
   "cell_type": "code",
   "execution_count": 50,
   "id": "8792238c",
   "metadata": {},
   "outputs": [
    {
     "name": "stderr",
     "output_type": "stream",
     "text": [
      "100%|██████████████████████████████████████████████████████████████████████████████████| 2/2 [00:00<00:00, 1984.06it/s]\n"
     ]
    },
    {
     "data": {
      "text/plain": [
       "(['dualem.shp', 'dualem.shp'],\n",
       " ['../Data/DualEM/Dualem_01', '../Data/DualEM/Dualem_02'])"
      ]
     },
     "execution_count": 50,
     "metadata": {},
     "output_type": "execute_result"
    }
   ],
   "source": [
    "# Definir ruta de archivos Dualem\n",
    "#======================================================================================\n",
    "path = '../Data/DualEM/'\n",
    "\n",
    "# Obtener nombre los archivos disponibles en le path indicado\n",
    "#=======================================================================================\n",
    "\n",
    "files,paths = Get_Folder(path)\n",
    "files,paths"
   ]
  },
  {
   "cell_type": "code",
   "execution_count": 52,
   "id": "5ac328b0",
   "metadata": {},
   "outputs": [
    {
     "name": "stderr",
     "output_type": "stream",
     "text": [
      "100%|████████████████████████████████████████████████████████████████████████████████████| 2/2 [00:04<00:00,  2.05s/it]\n"
     ]
    },
    {
     "data": {
      "text/html": [
       "<div>\n",
       "<style scoped>\n",
       "    .dataframe tbody tr th:only-of-type {\n",
       "        vertical-align: middle;\n",
       "    }\n",
       "\n",
       "    .dataframe tbody tr th {\n",
       "        vertical-align: top;\n",
       "    }\n",
       "\n",
       "    .dataframe thead th {\n",
       "        text-align: right;\n",
       "    }\n",
       "</style>\n",
       "<table border=\"1\" class=\"dataframe\">\n",
       "  <thead>\n",
       "    <tr style=\"text-align: right;\">\n",
       "      <th></th>\n",
       "      <th>Longitude</th>\n",
       "      <th>Latitude</th>\n",
       "      <th>DualEM 100</th>\n",
       "      <th>DualEM 150</th>\n",
       "      <th>DualEM 300</th>\n",
       "      <th>DualEM 50c</th>\n",
       "      <th>Elevation[</th>\n",
       "    </tr>\n",
       "  </thead>\n",
       "  <tbody>\n",
       "    <tr>\n",
       "      <th>44333</th>\n",
       "      <td>-61.5891437333333</td>\n",
       "      <td>-34.3841487666667</td>\n",
       "      <td>19</td>\n",
       "      <td>19.4</td>\n",
       "      <td>32.7</td>\n",
       "      <td>10.8</td>\n",
       "      <td>95.065</td>\n",
       "    </tr>\n",
       "    <tr>\n",
       "      <th>44334</th>\n",
       "      <td>-61.5891794333333</td>\n",
       "      <td>-34.3841143333333</td>\n",
       "      <td>20.3</td>\n",
       "      <td>20.6</td>\n",
       "      <td>33.8</td>\n",
       "      <td>11.5</td>\n",
       "      <td>94.966</td>\n",
       "    </tr>\n",
       "    <tr>\n",
       "      <th>44335</th>\n",
       "      <td>-61.5892116666667</td>\n",
       "      <td>-34.3840855833333</td>\n",
       "      <td>18.5</td>\n",
       "      <td>18.6</td>\n",
       "      <td>31.8</td>\n",
       "      <td>10.4</td>\n",
       "      <td>94.96</td>\n",
       "    </tr>\n",
       "    <tr>\n",
       "      <th>44336</th>\n",
       "      <td>-61.58923795</td>\n",
       "      <td>-34.3840654666667</td>\n",
       "      <td>19.7</td>\n",
       "      <td>19.6</td>\n",
       "      <td>33.1</td>\n",
       "      <td>11.3</td>\n",
       "      <td>94.897</td>\n",
       "    </tr>\n",
       "    <tr>\n",
       "      <th>44337</th>\n",
       "      <td>-61.5892544833333</td>\n",
       "      <td>-34.3840532333333</td>\n",
       "      <td>19</td>\n",
       "      <td>19</td>\n",
       "      <td>32.3</td>\n",
       "      <td>10.4</td>\n",
       "      <td>94.881</td>\n",
       "    </tr>\n",
       "  </tbody>\n",
       "</table>\n",
       "</div>"
      ],
      "text/plain": [
       "               Longitude           Latitude DualEM 100 DualEM 150 DualEM 300  \\\n",
       "44333  -61.5891437333333  -34.3841487666667         19       19.4       32.7   \n",
       "44334  -61.5891794333333  -34.3841143333333       20.3       20.6       33.8   \n",
       "44335  -61.5892116666667  -34.3840855833333       18.5       18.6       31.8   \n",
       "44336       -61.58923795  -34.3840654666667       19.7       19.6       33.1   \n",
       "44337  -61.5892544833333  -34.3840532333333         19         19       32.3   \n",
       "\n",
       "      DualEM 50c Elevation[  \n",
       "44333       10.8     95.065  \n",
       "44334       11.5     94.966  \n",
       "44335       10.4      94.96  \n",
       "44336       11.3     94.897  \n",
       "44337       10.4     94.881  "
      ]
     },
     "execution_count": 52,
     "metadata": {},
     "output_type": "execute_result"
    }
   ],
   "source": [
    "# Variables de interes del Yield\n",
    "#=====================================================\n",
    "var = ['Longitude','Latitude','DualEM 100','DualEM 150','DualEM 300','DualEM 50c','Elevation[']\n",
    "\n",
    "all_dualem =  pd.DataFrame()\n",
    "\n",
    "for i,fold in enumerate(tqdm(paths)): # For folders\n",
    "    \n",
    "    \n",
    "    dualem = get_dualem(fold+'/',files[i],var)\n",
    "    \n",
    "    all_dualem = pd.concat([all_dualem,dualem],axis=0)\n",
    "    \n",
    "    \n",
    "all_dualem.reset_index(drop = True, inplace=True)\n",
    "all_dualem.tail()"
   ]
  },
  {
   "cell_type": "markdown",
   "id": "c2709c9e",
   "metadata": {},
   "source": [
    "# Escribir Dataframe en archivo csv"
   ]
  },
  {
   "cell_type": "code",
   "execution_count": null,
   "id": "1c00bc7c",
   "metadata": {},
   "outputs": [],
   "source": [
    "all_dualem.to_csv('Dualem_all.csv',index=False)"
   ]
  }
 ],
 "metadata": {
  "kernelspec": {
   "display_name": "Python 3 (ipykernel)",
   "language": "python",
   "name": "python3"
  },
  "language_info": {
   "codemirror_mode": {
    "name": "ipython",
    "version": 3
   },
   "file_extension": ".py",
   "mimetype": "text/x-python",
   "name": "python",
   "nbconvert_exporter": "python",
   "pygments_lexer": "ipython3",
   "version": "3.9.13"
  }
 },
 "nbformat": 4,
 "nbformat_minor": 5
}
